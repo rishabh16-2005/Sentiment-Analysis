{
 "cells": [
  {
   "cell_type": "code",
   "execution_count": 15,
   "id": "67750867",
   "metadata": {},
   "outputs": [
    {
     "name": "stdout",
     "output_type": "stream",
     "text": [
      "hi\n"
     ]
    }
   ],
   "source": [
    "print('hi')"
   ]
  },
  {
   "cell_type": "markdown",
   "id": "4725040e",
   "metadata": {},
   "source": [
    "# Creating text Embeddings"
   ]
  },
  {
   "cell_type": "code",
   "execution_count": 16,
   "id": "71e6ec26",
   "metadata": {},
   "outputs": [],
   "source": [
    "from tensorflow.keras.preprocessing.text import Tokenizer\n",
    "from tensorflow.keras.preprocessing.sequence import pad_sequences\n",
    "\n",
    "tokenizer = Tokenizer(num_words=50000,oov_token='<OOV>')"
   ]
  },
  {
   "cell_type": "code",
   "execution_count": 17,
   "id": "81763276",
   "metadata": {},
   "outputs": [],
   "source": [
    "import pandas as pd \n",
    "\n",
    "train_df = pd.read_csv('train.csv')"
   ]
  },
  {
   "cell_type": "code",
   "execution_count": 18,
   "id": "7466fd14",
   "metadata": {},
   "outputs": [],
   "source": [
    "text = train_df['clean text'].fillna(\"\").astype(str).tolist()\n",
    "tokenizer.fit_on_texts(text)"
   ]
  },
  {
   "cell_type": "code",
   "execution_count": 19,
   "id": "03477bdb",
   "metadata": {},
   "outputs": [],
   "source": [
    "sequences = tokenizer.texts_to_sequences(text)\n",
    "padded  = pad_sequences(sequences,padding='post')"
   ]
  },
  {
   "cell_type": "code",
   "execution_count": 20,
   "id": "a1be8b72",
   "metadata": {},
   "outputs": [
    {
     "name": "stdout",
     "output_type": "stream",
     "text": [
      "[[   9  176  477 ...    0    0    0]\n",
      " [ 102  147    5 ...    0    0    0]\n",
      " [   9 1063   10 ...    0    0    0]\n",
      " ...\n",
      " [  73   20    5 ...    0    0    0]\n",
      " [  16  222   50 ...    0    0    0]\n",
      " [   4  664   13 ...    0    0    0]]\n"
     ]
    }
   ],
   "source": [
    "print(padded)"
   ]
  },
  {
   "cell_type": "code",
   "execution_count": 21,
   "id": "a36ef6cb",
   "metadata": {},
   "outputs": [
    {
     "data": {
      "text/plain": [
       "array([    9,   176,   477,    14,   395,     7,  5734,     2,     1,\n",
       "          11,    60,   446,    27,    74,     4,    38,  1691,     7,\n",
       "          72,     6,   131,    70,   695, 18348,   152,   123,     4,\n",
       "          20,   495,     2,   152, 21665,  2128,    19,    41,     8,\n",
       "          28,     8,     2,   580,     4,    20,   142,   495,     7,\n",
       "          44,     2,   110,   123,     7,  6598,   241,    35,  5160,\n",
       "           1,     3,   401,     5, 16240,   993,    17,  9012,  2880,\n",
       "           3,  4412, 16393,     7,    38,  4995,   190,    70,  2688,\n",
       "           6,   323,     0,     0,     0,     0,     0,     0,     0,\n",
       "           0,     0,     0,     0,     0,     0,     0,     0,     0,\n",
       "           0,     0,     0,     0,     0,     0,     0,     0,     0,\n",
       "           0,     0,     0,     0,     0,     0,     0,     0,     0,\n",
       "           0,     0,     0,     0,     0,     0,     0,     0,     0,\n",
       "           0,     0,     0,     0,     0,     0,     0,     0,     0,\n",
       "           0,     0,     0,     0,     0,     0,     0,     0,     0,\n",
       "           0,     0,     0,     0,     0,     0,     0,     0,     0,\n",
       "           0,     0,     0,     0,     0,     0,     0,     0,     0,\n",
       "           0,     0,     0,     0,     0,     0,     0,     0,     0,\n",
       "           0,     0,     0,     0,     0,     0,     0,     0,     0,\n",
       "           0,     0,     0,     0,     0,     0,     0,     0,     0,\n",
       "           0,     0,     0,     0,     0,     0,     0,     0,     0,\n",
       "           0,     0,     0,     0,     0,     0,     0,     0,     0,\n",
       "           0,     0,     0,     0,     0,     0,     0,     0,     0,\n",
       "           0,     0,     0,     0,     0,     0,     0,     0,     0,\n",
       "           0,     0,     0,     0,     0,     0,     0,     0,     0,\n",
       "           0,     0,     0,     0,     0,     0,     0,     0,     0,\n",
       "           0,     0,     0,     0,     0,     0,     0,     0,     0,\n",
       "           0,     0,     0,     0,     0,     0,     0,     0,     0])"
      ]
     },
     "execution_count": 21,
     "metadata": {},
     "output_type": "execute_result"
    }
   ],
   "source": [
    "padded[0]"
   ]
  },
  {
   "cell_type": "code",
   "execution_count": 22,
   "id": "5cf53573",
   "metadata": {},
   "outputs": [],
   "source": [
    "colum = [i for i in range(1,253)]"
   ]
  },
  {
   "cell_type": "code",
   "execution_count": 23,
   "id": "2047c692",
   "metadata": {},
   "outputs": [],
   "source": [
    "df = pd.DataFrame(padded,columns=colum)"
   ]
  },
  {
   "cell_type": "code",
   "execution_count": 24,
   "id": "ef74d660",
   "metadata": {},
   "outputs": [],
   "source": [
    "df['target']= train_df['class_index']"
   ]
  },
  {
   "cell_type": "code",
   "execution_count": 25,
   "id": "d4de7ced",
   "metadata": {},
   "outputs": [],
   "source": [
    "df.to_csv('embedded.csv')"
   ]
  },
  {
   "cell_type": "code",
   "execution_count": 26,
   "id": "7f5afc7c",
   "metadata": {},
   "outputs": [],
   "source": [
    "import json\n",
    "tokenizer_json = tokenizer.to_json()\n",
    "with open(\"tokenizer.json\",\"w\") as f:\n",
    "    f.write(tokenizer_json)"
   ]
  },
  {
   "cell_type": "code",
   "execution_count": 27,
   "id": "69d0045e",
   "metadata": {},
   "outputs": [
    {
     "name": "stdout",
     "output_type": "stream",
     "text": [
      "Vocabulary Size: 2080903\n"
     ]
    }
   ],
   "source": [
    "vocab_size = len(tokenizer.word_index) + 1  # +1 for padding token (index 0)\n",
    "print(\"Vocabulary Size:\", vocab_size)"
   ]
  },
  {
   "cell_type": "code",
   "execution_count": null,
   "id": "4c93485d",
   "metadata": {},
   "outputs": [],
   "source": []
  }
 ],
 "metadata": {
  "kernelspec": {
   "display_name": "base",
   "language": "python",
   "name": "python3"
  },
  "language_info": {
   "codemirror_mode": {
    "name": "ipython",
    "version": 3
   },
   "file_extension": ".py",
   "mimetype": "text/x-python",
   "name": "python",
   "nbconvert_exporter": "python",
   "pygments_lexer": "ipython3",
   "version": "3.12.7"
  }
 },
 "nbformat": 4,
 "nbformat_minor": 5
}
